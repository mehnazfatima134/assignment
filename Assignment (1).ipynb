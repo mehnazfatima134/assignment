{
  "nbformat": 4,
  "nbformat_minor": 0,
  "metadata": {
    "colab": {
      "name": "Assignment.ipynb",
      "provenance": []
    },
    "kernelspec": {
      "name": "python3",
      "display_name": "Python 3"
    },
    "language_info": {
      "name": "python"
    }
  },
  "cells": [
    {
      "cell_type": "markdown",
      "metadata": {
        "id": "1Avw7m6E4ZUI"
      },
      "source": [
        "1. Write a program to print the following  string in a specfic format."
      ]
    },
    {
      "cell_type": "code",
      "metadata": {
        "colab": {
          "base_uri": "https://localhost:8080/"
        },
        "id": "GSuQ0WE14RVt",
        "outputId": "0bd64d39-2b9a-4c50-b223-24d6143f94e9"
      },
      "source": [
        "print(\"Twinkle, twinkle, little star, \\n\\tHow I wonder what you are! \\n\\t\\tUp above the world so high, \\n\\t\\tLike a diamond in the sky. \\nTwinkle, twinkle, little star, \\n\\tHow I wonder what you are!\")\n",
        "\n",
        "\n",
        " \n",
        "\n",
        " \n"
      ],
      "execution_count": 1,
      "outputs": [
        {
          "output_type": "stream",
          "name": "stdout",
          "text": [
            "Twinkle, twinkle, little star, \n",
            "\tHow I wonder what you are! \n",
            "\t\tUp above the world so high, \n",
            "\t\tLike a diamond in the sky. \n",
            "Twinkle, twinkle, little star, \n",
            "\tHow I wonder what you are!\n"
          ]
        }
      ]
    },
    {
      "cell_type": "markdown",
      "metadata": {
        "id": "gDZ65xbF6YpX"
      },
      "source": [
        "2. Write a Python program to get the python version you are using."
      ]
    },
    {
      "cell_type": "code",
      "metadata": {
        "colab": {
          "base_uri": "https://localhost:8080/"
        },
        "id": "Gopicob06QT7",
        "outputId": "c56ba588-5eb2-4c90-9d63-7d9f3bae7971"
      },
      "source": [
        "!python --version"
      ],
      "execution_count": 2,
      "outputs": [
        {
          "output_type": "stream",
          "name": "stdout",
          "text": [
            "Python 3.7.12\n"
          ]
        }
      ]
    },
    {
      "cell_type": "markdown",
      "metadata": {
        "id": "-wb0qK8j7SZZ"
      },
      "source": [
        "3. Write a program to display the current date and time?"
      ]
    },
    {
      "cell_type": "code",
      "metadata": {
        "colab": {
          "base_uri": "https://localhost:8080/"
        },
        "id": "eSXiREg17O1b",
        "outputId": "a2536bc7-aab4-42e8-fd52-00fff38e6806"
      },
      "source": [
        "import datetime\n",
        "now = datetime.datetime.now()\n",
        "print (\"Current date and time : \")\n",
        "print (now.strftime(\"%Y-%m-%d %H:%M:%S\"))"
      ],
      "execution_count": 3,
      "outputs": [
        {
          "output_type": "stream",
          "name": "stdout",
          "text": [
            "Current date and time : \n",
            "2021-10-24 10:53:25\n"
          ]
        }
      ]
    },
    {
      "cell_type": "markdown",
      "metadata": {
        "id": "uzvU5vVQ7yQl"
      },
      "source": [
        "4. Write a python program which accept the radius of a circle from the user and compute the area."
      ]
    },
    {
      "cell_type": "code",
      "metadata": {
        "colab": {
          "base_uri": "https://localhost:8080/"
        },
        "id": "SjnD9xmV7wVp",
        "outputId": "f628b3c8-4742-41d3-ef18-d4b523584d16"
      },
      "source": [
        "from math import pi\n",
        "r = float(input (\"Input the radius of the circle : \"))\n",
        "print (\"The area of the circle with radius \" + str(r) + \" is: \" + str(pi * r**2))\n"
      ],
      "execution_count": 5,
      "outputs": [
        {
          "output_type": "stream",
          "name": "stdout",
          "text": [
            "Input the radius of the circle : 7\n",
            "The area of the circle with radius 7.0 is: 153.93804002589985\n"
          ]
        }
      ]
    },
    {
      "cell_type": "markdown",
      "metadata": {
        "id": "SgHRvq_o893C"
      },
      "source": [
        "5.Write a python program which accepts the user's first and last name and print them in reverse order with a space between them."
      ]
    },
    {
      "cell_type": "code",
      "metadata": {
        "colab": {
          "base_uri": "https://localhost:8080/"
        },
        "id": "XAEP6Szh8KLA",
        "outputId": "804f5a9b-d053-48a4-eaef-6a139943e1a8"
      },
      "source": [
        "fname = input(\"Input your First Name : \")\n",
        "lname = input(\"Input your Last Name : \")\n",
        "print (\"Hello  \" + lname + \" \" + fname)"
      ],
      "execution_count": 7,
      "outputs": [
        {
          "output_type": "stream",
          "name": "stdout",
          "text": [
            "Input your First Name : mehnaz \n",
            "Input your Last Name : fatima\n",
            "Hello  fatima mehnaz \n"
          ]
        }
      ]
    },
    {
      "cell_type": "markdown",
      "metadata": {
        "id": "1YYDp8uf-OTe"
      },
      "source": [
        "6.Write  a python program which take two inputs from user and print them addition"
      ]
    },
    {
      "cell_type": "code",
      "metadata": {
        "colab": {
          "base_uri": "https://localhost:8080/"
        },
        "id": "4PmQhngL-AjT",
        "outputId": "0375b74c-a66e-4783-ced6-634282c1420d"
      },
      "source": [
        "a = int(input(\"enter first number: \"))\n",
        "b = int(input(\"enter second number: \"))\n",
        "sum = a + b\n",
        "print(\"sum:\", sum)"
      ],
      "execution_count": 9,
      "outputs": [
        {
          "output_type": "stream",
          "name": "stdout",
          "text": [
            "enter first number: 7\n",
            "enter second number: 9\n",
            "sum: 16\n"
          ]
        }
      ]
    },
    {
      "cell_type": "markdown",
      "metadata": {
        "id": "yGy1gxdV-3Cb"
      },
      "source": [
        "7. Write a program which takes 5 inputs from the user for differents subject's marks,total it and generate mark sheet using grades?"
      ]
    },
    {
      "cell_type": "code",
      "metadata": {
        "colab": {
          "base_uri": "https://localhost:8080/"
        },
        "id": "2APJOvA1-u9c",
        "outputId": "35b01511-8e1a-4c0c-e515-08948ca50473"
      },
      "source": [
        "sub1=int(input(\"Enter marks of the Math subject: \"))\n",
        "sub2=int(input(\"Enter marks of the science subject: \"))\n",
        "sub3=int(input(\"Enter marks of the urdu subject: \"))\n",
        "sub4=int(input(\"Enter marks of the english subject: \"))\n",
        "sub5=int(input(\"Enter marks of the islamiyat subject: \"))\n",
        "avg=(sub1+sub2+sub3+sub4+sub4)/5\n",
        "if(avg>=90):\n",
        "    print(\"Grade: A\")\n",
        "elif(avg>=80 and avg<90):\n",
        "    print(\"Grade: B\")\n",
        "elif(avg>=70 and avg<80):\n",
        "    print(\"Grade: C\")\n",
        "elif(avg>=60 and avg<70):\n",
        "    print(\"Grade: D\")\n",
        "else:\n",
        "    print(\"Grade: F\")"
      ],
      "execution_count": 12,
      "outputs": [
        {
          "output_type": "stream",
          "name": "stdout",
          "text": [
            "Enter marks of the Math subject: 67\n",
            "Enter marks of the science subject: 56\n",
            "Enter marks of the urdu subject: 78\n",
            "Enter marks of the english subject: 90\n",
            "Enter marks of the islamiyat subject: 47\n",
            "Grade: C\n"
          ]
        }
      ]
    },
    {
      "cell_type": "markdown",
      "metadata": {
        "id": "IGXphSpkAUZ7"
      },
      "source": [
        "8.Write a program which take input from user and identify that the given number is even or odd?"
      ]
    },
    {
      "cell_type": "code",
      "metadata": {
        "colab": {
          "base_uri": "https://localhost:8080/"
        },
        "id": "DFVeUsPC_gjA",
        "outputId": "e35e2b72-52f9-498c-c90b-bd0385135b08"
      },
      "source": [
        "num = int(input(\"Enter a number: \"))\n",
        "mod = num % 2\n",
        "if mod > 0:\n",
        "    print(\"This is an odd number.\")\n",
        "else:\n",
        "    print(\"This is an even number.\")"
      ],
      "execution_count": 13,
      "outputs": [
        {
          "output_type": "stream",
          "name": "stdout",
          "text": [
            "Enter a number: 7\n",
            "This is an odd number.\n"
          ]
        }
      ]
    },
    {
      "cell_type": "markdown",
      "metadata": {
        "id": "HKIkVK1iBKLW"
      },
      "source": [
        "9.Write a program  which print the length of the list?"
      ]
    },
    {
      "cell_type": "code",
      "metadata": {
        "colab": {
          "base_uri": "https://localhost:8080/"
        },
        "id": "PMmAeCteBGBf",
        "outputId": "401854df-c2d2-4dd2-ef7b-ddb0fee220a3"
      },
      "source": [
        "\n",
        "numbers = [1,2,3,4,5,1,4,5]\n",
        "print (\"Number of items in the list = \", len(numbers))"
      ],
      "execution_count": 21,
      "outputs": [
        {
          "output_type": "stream",
          "name": "stdout",
          "text": [
            "Number of items in the list =  8\n"
          ]
        }
      ]
    },
    {
      "cell_type": "markdown",
      "metadata": {
        "id": "xFMQ2_nHBrRm"
      },
      "source": [
        "10.Write a python program to sum all the numeric items in a list?"
      ]
    },
    {
      "cell_type": "code",
      "metadata": {
        "colab": {
          "base_uri": "https://localhost:8080/",
          "height": 238
        },
        "id": "vBoUhfWpBops",
        "outputId": "e7b15e67-e094-427e-8169-206c33772a6a"
      },
      "source": [
        "numbers = [1,2,3,4,5,1,4,5]\n",
        "  \n",
        "# start parameter is not provided\n",
        "Sum = sum(numbers)\n",
        "print(Sum)\n",
        "  \n",
        "# start = 10\n",
        "Sum = sum(numbers, 10)\n",
        "print(Sum)\n"
      ],
      "execution_count": 34,
      "outputs": [
        {
          "output_type": "error",
          "ename": "TypeError",
          "evalue": "ignored",
          "traceback": [
            "\u001b[0;31m---------------------------------------------------------------------------\u001b[0m",
            "\u001b[0;31mTypeError\u001b[0m                                 Traceback (most recent call last)",
            "\u001b[0;32m<ipython-input-34-134e9703819c>\u001b[0m in \u001b[0;36m<module>\u001b[0;34m()\u001b[0m\n\u001b[1;32m      2\u001b[0m \u001b[0;34m\u001b[0m\u001b[0m\n\u001b[1;32m      3\u001b[0m \u001b[0;31m# start parameter is not provided\u001b[0m\u001b[0;34m\u001b[0m\u001b[0;34m\u001b[0m\u001b[0;34m\u001b[0m\u001b[0m\n\u001b[0;32m----> 4\u001b[0;31m \u001b[0mSum\u001b[0m \u001b[0;34m=\u001b[0m \u001b[0msum\u001b[0m\u001b[0;34m(\u001b[0m\u001b[0mnumbers\u001b[0m\u001b[0;34m)\u001b[0m\u001b[0;34m\u001b[0m\u001b[0;34m\u001b[0m\u001b[0m\n\u001b[0m\u001b[1;32m      5\u001b[0m \u001b[0mprint\u001b[0m\u001b[0;34m(\u001b[0m\u001b[0mSum\u001b[0m\u001b[0;34m)\u001b[0m\u001b[0;34m\u001b[0m\u001b[0;34m\u001b[0m\u001b[0m\n\u001b[1;32m      6\u001b[0m \u001b[0;34m\u001b[0m\u001b[0m\n",
            "\u001b[0;31mTypeError\u001b[0m: 'int' object is not callable"
          ]
        }
      ]
    },
    {
      "cell_type": "markdown",
      "metadata": {
        "id": "eepHGNpXIy0W"
      },
      "source": [
        "Write a python program  to get the largest number from a numeric list."
      ]
    },
    {
      "cell_type": "code",
      "metadata": {
        "colab": {
          "base_uri": "https://localhost:8080/"
        },
        "id": "BRjLAxNaC0dR",
        "outputId": "4e71dbe8-024b-46e2-87a1-09a8adf0736f"
      },
      "source": [
        "list1 = [10, 20, 4, 45, 100]\n",
        "  \n",
        "# sorting the list\n",
        "list1.sort()\n",
        "  \n",
        "# printing the last element\n",
        "print(\"Largest element is:\", list1[-1])"
      ],
      "execution_count": 32,
      "outputs": [
        {
          "output_type": "stream",
          "name": "stdout",
          "text": [
            "Largest element is: 100\n"
          ]
        }
      ]
    },
    {
      "cell_type": "markdown",
      "metadata": {
        "id": "Su4ASVmUI8-T"
      },
      "source": [
        "Take a list \n",
        "a = [ 1,1,2,3,5,13,21,34,55,89]\n",
        "write a program that prints out all te elements of the list that are less than 5."
      ]
    },
    {
      "cell_type": "code",
      "metadata": {
        "colab": {
          "base_uri": "https://localhost:8080/"
        },
        "id": "pfpO5t-oJUQ4",
        "outputId": "16fcb544-f4cd-4c61-80e3-3d27b446aa80"
      },
      "source": [
        "\n",
        "a = [ 1,1,2,3,5,13,21,34,55,89]\n",
        "for element in a:\n",
        "    if(int(element) <5):\n",
        "        print(str(element)+\"\\n\")"
      ],
      "execution_count": 33,
      "outputs": [
        {
          "output_type": "stream",
          "name": "stdout",
          "text": [
            "1\n",
            "\n",
            "1\n",
            "\n",
            "2\n",
            "\n",
            "3\n",
            "\n"
          ]
        }
      ]
    },
    {
      "cell_type": "code",
      "metadata": {
        "id": "OLFX7iHJKSZx"
      },
      "source": [
        ""
      ],
      "execution_count": null,
      "outputs": []
    }
  ]
}